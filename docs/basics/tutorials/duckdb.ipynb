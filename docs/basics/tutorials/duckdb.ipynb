{
 "cells": [
  {
   "cell_type": "markdown",
   "metadata": {},
   "source": [
    "# DuckDB\n",
    "\n",
    "This notebook tutorial is support material for the \"DuckDB + Fused: Fly beyond the serverless horizon\" blog post."
   ]
  },
  {
   "cell_type": "markdown",
   "metadata": {},
   "source": [
    "## 1. Run DuckDB in a Fused UDF\n",
    "\n",
    "As an example of running DuckDB within a Fused UDF, take the case of loading a geospatial Parquet dataset. The \"DuckDB H3\" sample UDF runs an SQL query with DuckDB on the NYC Taxi Trip Record Dataset. It uses the bbox argument to spatially filter the dataset and automatically parallelize the operation.\n",
    "\n",
    "To try this example, you can run the cell below. You can find the code of the UDF in the Fused public UDF [repo](https://github.com/fusedio/udfs/tree/main/public/DuckDB_H3_Example_Tile).\n",
    "\n",
    "Alternatively, you can import the \"DuckDB H3 Example Tile\" UDF into your Fused Workbench environment. \n",
    "\n",
    "This pattern gives DuckDB easy parallel operations. Fused spatially filters via the bbox parameter to enable automatic parallelization. Fused breaks down operations to only a fraction of the dataset, so it's easy to transition between SQL and Python.\n",
    "\n",
    "<img src=\"https://fused-magic.s3.us-west-2.amazonaws.com/docs_assets/nyc.png\" alt=\"overture\" width=\"600\"/>"
   ]
  },
  {
   "cell_type": "code",
   "execution_count": null,
   "metadata": {},
   "outputs": [],
   "source": [
    "# !pip install fused "
   ]
  },
  {
   "cell_type": "code",
   "execution_count": null,
   "metadata": {},
   "outputs": [],
   "source": [
    "import fused\n",
    "\n",
    "udf = fused.load(\"https://github.com/fusedio/udfs/tree/main/public/DuckDB_H3_Example_Tile\")\n",
    "gdf = fused.run(udf=udf, x=2412, y=3078, z=13, engine='local')\n",
    "gdf"
   ]
  },
  {
   "cell_type": "markdown",
   "metadata": {},
   "source": [
    "## 2. Call Fused UDFs from DuckDB\n",
    "\n",
    "Any database that supports querying data via HTTP can call and load data from Fused UDF endpoints using common formats like Parquet or CSV. This means that DuckDB can dispatch operations to Fused that otherwise would be too complex or impossible to express with SQL, or would be unsupported in the local runtime.\n",
    "\n",
    "As an example of calling a Fused endpoint from within DuckDB, take an operation to vectorize a raster dataset. This might be necessary to determine the bounds of areas with pixel value within a certain threshold range in an Earth observation image - such as a Digital Elevation Model. SQL is not geared to support raster operations, but these are easy to do in Python.\n",
    "\n",
    "\n",
    "<img src=\"https://fused-magic.s3.us-west-2.amazonaws.com/docs_assets/gifs/sql.gif\" alt=\"overture\" width=\"600\"/>\n",
    "\n"
   ]
  },
  {
   "cell_type": "markdown",
   "metadata": {},
   "source": [
    "In this example, a Fused UDF returns a table where each record is a polygon generated from the contour of a raster provided by the Copernicus Digital Elevation Model as a Cloud Optimized GeoTIFF. DuckDB can easily trigger a UDF and load its output with this simple query, which specifies that the UDF endpoint returns a Parquet file.\n",
    "\n",
    "This SQL query uses DuckDB's read_parquet function to call an endpoint of a UDF instance of the \"DEM Raster to Vector\" UDF.\n",
    "\n",
    "You can find the code of the UDF in the Fused public UDF [repo](https://github.com/fusedio/udfs/tree/main/public/DEM_Raster_to_Vector_Example).\n",
    "\n",
    "To try this example, simply run the following SQL query on the cell below or in a [DuckDB shell](https://shell.duckdb.org/#queries=v0,CREATE-TABLE-dem_polygons-AS%0ASELECT-wkt,-area%0AFROM-read_csv('https://www.fused.io/server/v1/realtime%20shared/'-%7C%7C%0A----'1e35c9b9cadf900265443073b0bd99072f859b8beddb72a45e701fb5bcde807d'-%7C%7C%0A----'/run/file?dtype_out_vector=csv'-%7C%7C%0A----'&min_elevation=500')~%0A). Change the `min_elevation` parameter to run the UDF for parts of California at different elevations. (Note: for DuckDB WASM, the file will be requested as CSV.)"
   ]
  },
  {
   "cell_type": "code",
   "execution_count": null,
   "metadata": {},
   "outputs": [],
   "source": [
    "import duckdb\n",
    "\n",
    "con = duckdb.connect()\n",
    "\n",
    "con.sql(\"\"\"\n",
    "    SELECT \n",
    "        wkt, \n",
    "        ROUND(area,1) AS area\n",
    "    FROM read_parquet('https://www.fused.io/server/v1/realtime-shared/1e35c9b9cadf900265443073b0bd99072f859b8beddb72a45e701fb5bcde807d/run/file?min_elevation=500&dtype_out_vector=parquet')\n",
    "    LIMIT 5\n",
    "\"\"\")\n"
   ]
  },
  {
   "cell_type": "markdown",
   "metadata": {},
   "source": [
    "This pattern enables DuckDB to address use cases and data formats that it doesn't natively support or would otherwise see high data transfer cost, such as raster operations, API calls, and control flow logic."
   ]
  },
  {
   "cell_type": "markdown",
   "metadata": {},
   "source": [
    "## 3. Integrate DuckDB in applications using Fused\n",
    "\n",
    "Fused is the glue layer between DuckDB and apps. This enables seamless integrations that trigger Fused UDFs and load their results with simple parameterized HTTP calls.\n",
    "\n",
    "DuckDB is an embedded database engine and doesn't have built-in capability to share results other than writing out files. As a corollary of the preceding example, it's possible to query and transform data with DuckDB and seamlessly integrate the results of queries into any workflow or app.\n",
    "\n",
    "As an example, take the case of loading the output of a DuckDB query into Google Sheets. Sheets can easily structure the Fused UDF endpoint to pass parameters defined in specific cells as URL query parameters. In this example, the [importData](https://support.google.com/docs/answer/3093335?hl=en) command calls the endpoint for the UDF above and loads its output data in CSV format. It constructs the endpoint string by concatenating a base URL with the `B2`, `B3`, and `B4` cell values as query parameters.\n",
    "\n",
    "```bash\n",
    "=importData(CONCATENATE(\"https://www.fused.io/server/v1/realtime-shared/aba7b238d9445d576e15b2d6b780dc353bfdee55f02a285a85a3917b72835600/run/file?dtype_out_vector=csv&resolution=\", B2, \"&min_count=\", B3, \"&head=\", B4))\n",
    "```\n",
    "\n",
    "\n",
    "\n",
    "<img src=\"https://fused-magic.s3.us-west-2.amazonaws.com/docs_assets/gifs/sheets.gif\" alt=\"overture\" width=\"600\"/>\n",
    "\n"
   ]
  },
  {
   "cell_type": "markdown",
   "metadata": {},
   "source": [
    "To try this example simply make a copy of [this](https://docs.google.com/spreadsheets/d/1iufyjEct5bQjYAI8v1Mb5e29yG8ukzH4X8MD6oP1xLQ/edit?usp=sharing) Google Sheets spreadsheet (File > Make a copy) and click, and modify the parameters in `B2:4` to trigger the Fused UDF endpoint and load data.\n",
    "\n",
    "You can learn more about the Google Sheets integration in the [documentation](/basics/out/googlesheets/).\n",
    "\n",
    "This pattern brings the power of the DuckDB analytical engine into non-analytical and no-code software like Google Sheets, Retool, and beyond - without the need to build bespoke integrations with closed-source systems. With this, a Python developer can abstract away the UDF and deliver data to end users. This removes the need to even install DuckDB."
   ]
  },
  {
   "cell_type": "code",
   "execution_count": null,
   "metadata": {},
   "outputs": [],
   "source": [
    "import fused\n",
    "\n",
    "udf = fused.load(\"https://github.com/fusedio/udfs/tree/main/public/DuckDB_H3_Example\")\n",
    "gdf = fused.run(udf=udf, engine='realtime')\n",
    "gdf"
   ]
  }
 ],
 "metadata": {
  "kernelspec": {
   "display_name": ".venv",
   "language": "python",
   "name": "python3"
  },
  "language_info": {
   "codemirror_mode": {
    "name": "ipython",
    "version": 3
   },
   "file_extension": ".py",
   "mimetype": "text/x-python",
   "name": "python",
   "nbconvert_exporter": "python",
   "pygments_lexer": "ipython3",
   "version": "3.9.19"
  }
 },
 "nbformat": 4,
 "nbformat_minor": 2
}
